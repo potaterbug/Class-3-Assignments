{
 "cells": [
  {
   "cell_type": "code",
   "execution_count": 1,
   "metadata": {},
   "outputs": [
    {
     "name": "stdout",
     "output_type": "stream",
     "text": [
      "{'name': 'Zed', 'age': 39, 'height': 74}\n"
     ]
    }
   ],
   "source": [
    "#First thing to teach (dictionaries)\n",
    "# You can use numbers to index into a list, meaning you can use numbers to find out what’s in lists. You\n",
    "# should know this about lists by now, but make sure you understand that you can only use numbers to\n",
    "# get items out of a list.\n",
    "# A dict lets you use anything, not just numbers. Yes, a dict associates one thing to another, no matter\n",
    "# what it is. \n",
    "\n",
    "#Here I created a dictionary\n",
    "#A list uses square brackets, but dictionaries use curly brackets to hold their information.\n",
    "#We call this a key-value pair so the key must be unique,but the values can be the same or different\n",
    "stuff = {'name': 'Zed', 'age': 39, 'height': 6 * 12 + 2}\n",
    "\n",
    "#lets print out stuff and see what's there\n",
    "print(stuff)"
   ]
  },
  {
   "cell_type": "code",
   "execution_count": 2,
   "metadata": {},
   "outputs": [
    {
     "name": "stdout",
     "output_type": "stream",
     "text": [
      "{'name': 'Zed', 'age': 39, 'height': 74, 1: 39, 2: 'Hello', 'grade': 'A'}\n"
     ]
    }
   ],
   "source": [
    "# Second thing to teach (adding to a dictionary)\n",
    "\n",
    "#Here I add in a new key and value of 1 the number with a value of 39 the number, look at the syntax\n",
    "#we use brackets to either call or create new keys in our dictionary\n",
    "#The new keys have to be unique or else you update the same key with a new value\n",
    "stuff[1] = 39\n",
    "# here I add another but this time the value is a string\n",
    "stuff[2] = 'Hello'\n",
    "# here I add another but this time with a string key and string value\n",
    "stuff['grade'] = 'A'\n",
    "\n",
    "#lets print out the dictionary and see whats inside now\n",
    "print(stuff)"
   ]
  },
  {
   "cell_type": "code",
   "execution_count": 3,
   "metadata": {},
   "outputs": [
    {
     "name": "stdout",
     "output_type": "stream",
     "text": [
      "{'name': 'Zed', 'age': 39, 'height': 74}\n"
     ]
    }
   ],
   "source": [
    "#Third thing to teach (deleting from a dictionary)\n",
    "\n",
    "#lets delete some things now\n",
    "del stuff[1]\n",
    "del stuff[2]\n",
    "del stuff['grade']\n",
    "\n",
    "#or another way\n",
    "\n",
    "# stuff.pop(1)\n",
    "# stuff.pop(2)\n",
    "# stuff.pop(\"grade\")\n",
    "\n",
    "print(stuff)"
   ]
  },
  {
   "cell_type": "code",
   "execution_count": 4,
   "metadata": {},
   "outputs": [
    {
     "name": "stdout",
     "output_type": "stream",
     "text": [
      "Zed\n",
      "Zed\n"
     ]
    }
   ],
   "source": [
    "# Fourth thing to teach (calling values from dictionaries)\n",
    "x = stuff[\"name\"]\n",
    "print(x)\n",
    "\n",
    "#or\n",
    "\n",
    "x = stuff.get(\"name\")\n",
    "print(x)"
   ]
  },
  {
   "cell_type": "code",
   "execution_count": 5,
   "metadata": {},
   "outputs": [
    {
     "name": "stdout",
     "output_type": "stream",
     "text": [
      "Yes, 'name' is one of the keys in the stuff dictionary.\n",
      "No, 'hello' is not one of the keys in the stuff dictionary.\n"
     ]
    }
   ],
   "source": [
    "# Fifth Finding out if there is a key in a dictionary\n",
    "if \"name\" in stuff:\n",
    "    print(\"Yes, 'name' is one of the keys in the stuff dictionary.\")\n",
    "if 'hello' in stuff:\n",
    "    print(\"Yes, 'hello' is one of the keys in the stuff dictionary.\")\n",
    "else:\n",
    "    print(\"No, 'hello' is not one of the keys in the stuff dictionary.\")"
   ]
  },
  {
   "cell_type": "code",
   "execution_count": 6,
   "metadata": {},
   "outputs": [
    {
     "name": "stdout",
     "output_type": "stream",
     "text": [
      "Values By positions\n",
      "Zed\n",
      "39\n",
      "74\n",
      "Print the keys\n",
      "name\n",
      "age\n",
      "height\n",
      "Print the values\n",
      "Zed\n",
      "39\n",
      "74\n",
      "By both keys and values\n",
      "name Zed\n",
      "age 39\n",
      "height 74\n"
     ]
    }
   ],
   "source": [
    "# Sixth iterating through a dictionary\n",
    "\n",
    "#if you want to use the positions\n",
    "print(\"Values By positions\")\n",
    "for x in stuff:\n",
    "    print(stuff[x])\n",
    "\n",
    "#if you want the keys\n",
    "print(\"Print the keys\")\n",
    "for key in stuff.keys():\n",
    "    print(key)\n",
    "    \n",
    "#if you want to use the values\n",
    "print(\"Print the values\")\n",
    "for value in stuff.values():\n",
    "    print(value)\n",
    "#if you want to see the keys and values\n",
    "print(\"By both keys and values\")\n",
    "for x, y in stuff.items():\n",
    "    print(x, y)"
   ]
  },
  {
   "cell_type": "code",
   "execution_count": 7,
   "metadata": {},
   "outputs": [
    {
     "name": "stdout",
     "output_type": "stream",
     "text": [
      "{'name': 'Zed', 'age': 39, 'height': 74}\n"
     ]
    }
   ],
   "source": [
    "# Seventh making a copy of a dictionary\n",
    "\n",
    "#copy() function allows you to copy the dictionary to something else.\n",
    "stuff2 = stuff.copy()\n",
    "print(stuff2)"
   ]
  },
  {
   "cell_type": "code",
   "execution_count": 8,
   "metadata": {},
   "outputs": [
    {
     "name": "stdout",
     "output_type": "stream",
     "text": [
      "{'child1': {'name': 'Emil', 'year': 2004}, 'child2': {'name': 'Tobias', 'year': 2007}, 'child3': {'name': 'Linus', 'year': 2011}}\n"
     ]
    }
   ],
   "source": [
    "# Eighth creating nested dictionaries\n",
    "\n",
    "#creating a nested dicitonary where myfamily holds everything\n",
    "myfamily = {\n",
    "  \"child1\" : {\n",
    "    \"name\" : \"Emil\",\n",
    "    \"year\" : 2004\n",
    "  },\n",
    "  \"child2\" : {\n",
    "    \"name\" : \"Tobias\",\n",
    "    \"year\" : 2007\n",
    "  },\n",
    "  \"child3\" : {\n",
    "    \"name\" : \"Linus\",\n",
    "    \"year\" : 2011\n",
    "  }\n",
    "}\n",
    "\n",
    "#or\n",
    "\n",
    "#creating the same dictionary but this time creating them individually\n",
    "child1 = {\n",
    "  \"name\" : \"Emil\",\n",
    "  \"year\" : 2004\n",
    "}\n",
    "child2 = {\n",
    "  \"name\" : \"Tobias\",\n",
    "  \"year\" : 2007\n",
    "}\n",
    "child3 = {\n",
    "  \"name\" : \"Linus\",\n",
    "  \"year\" : 2011\n",
    "}\n",
    "\n",
    "#now adding all the dictionaries to one\n",
    "myfamily = {\n",
    "  \"child1\" : child1,\n",
    "  \"child2\" : child2,\n",
    "  \"child3\" : child3\n",
    "}\n",
    "print(myfamily)"
   ]
  },
  {
   "cell_type": "code",
   "execution_count": 9,
   "metadata": {},
   "outputs": [
    {
     "name": "stdout",
     "output_type": "stream",
     "text": [
      "----------\n",
      "NY State has:  New York\n",
      "OR State has:  Portland\n",
      "----------\n",
      "Michigan's abbreviation is:  MI\n",
      "Florida's abbreviation is:  FL\n",
      "----------\n",
      "Michigan has:  Detroit\n",
      "Florida has:  Jacksonville\n",
      "----------\n",
      "Oregon is abbreviated OR\n",
      "Florida is abbreviated FL\n",
      "California is abbreviated CA\n",
      "New York is abbreviated NY\n",
      "Michigan is abbreviated MI\n",
      "----------\n",
      "CA has the city San Francisco\n",
      "MI has the city Detroit\n",
      "FL has the city Jacksonville\n",
      "NY has the city New York\n",
      "OR has the city Portland\n",
      "----------\n",
      "Oregon state is abbreviated OR\n",
      "and has city Portland\n",
      "Florida state is abbreviated FL\n",
      "and has city Jacksonville\n",
      "California state is abbreviated CA\n",
      "and has city San Francisco\n",
      "New York state is abbreviated NY\n",
      "and has city New York\n",
      "Michigan state is abbreviated MI\n",
      "and has city Detroit\n",
      "----------\n",
      "None\n",
      "Sorry, no Texas.\n",
      "The city for the state 'TX' is: Does Not Exist\n"
     ]
    }
   ],
   "source": [
    "# Ninth thing to teach (loops with dictionaries and references with dictionaries)\n",
    "\n",
    "#You will need to know how things substitute for each other now and how we will now connect one another with each reference\n",
    "#if you don't get it at first remember to look each reference. \n",
    "\n",
    "# create a mapping of state to abbreviation\n",
    "states = {\n",
    "'Oregon': 'OR',\n",
    "'Florida': 'FL',\n",
    "'California': 'CA',\n",
    "'New York': 'NY',\n",
    "'Michigan': 'MI'\n",
    "}\n",
    "\n",
    " # create a basic set of states and some cities in them\n",
    "cities = {\n",
    "'CA': 'San Francisco',\n",
    "'MI': 'Detroit',\n",
    "'FL': 'Jacksonville'\n",
    " }\n",
    "\n",
    " # add some more cities\n",
    "cities['NY'] = 'New York'\n",
    "cities['OR'] = 'Portland'\n",
    "\n",
    " # print out some cities\n",
    "print('-' * 10)\n",
    "\n",
    "\n",
    "print(\"NY State has: \", cities['NY'])\n",
    "print(\"OR State has: \", cities['OR'])\n",
    "\n",
    " # print some states\n",
    "print('-' * 10)\n",
    "print(\"Michigan's abbreviation is: \", states['Michigan'])\n",
    "print(\"Florida's abbreviation is: \", states['Florida'])\n",
    "\n",
    " # do it by using the state then cities dict\n",
    "print('-' * 10)\n",
    "print(\"Michigan has: \", cities[states['Michigan']])\n",
    "print(\"Florida has: \", cities[states['Florida']])\n",
    "\n",
    " # print every state abbreviation\n",
    "print('-' * 10)\n",
    "for state, abbrev in list(states.items()):\n",
    "    print(f\"{state} is abbreviated {abbrev}\")\n",
    "\n",
    " # print every city in state\n",
    "print('-' * 10)\n",
    "for abbrev, city in list(cities.items()):\n",
    "    print(f\"{abbrev} has the city {city}\")\n",
    "\n",
    " # now do both at the same time\n",
    "print('-' * 10)\n",
    "for state, abbrev in list(states.items()):\n",
    "    print(f\"{state} state is abbreviated {abbrev}\")\n",
    "    print(f\"and has city {cities[abbrev]}\")\n",
    "\n",
    "print('-' * 10)\n",
    " # safely get a abbreviation by state that might not be there\n",
    "state = states.get('Texas')\n",
    "\n",
    "#what is state?\n",
    "print(state)\n",
    "#checking if there is a value or not attached to state\n",
    "if state != None: #another way to check is    if state:\n",
    "    print(\"Yes, Texas.\")\n",
    "if state == None: # another way to check is   if not state:\n",
    "    print(\"Sorry, no Texas.\")\n",
    "\n",
    " # get a city with a default value\n",
    "city = cities.get('TX', 'Does Not Exist')\n",
    "print(f\"The city for the state 'TX' is: {city}\")\n"
   ]
  },
  {
   "cell_type": "code",
   "execution_count": null,
   "metadata": {},
   "outputs": [],
   "source": [
    "#Now command line is important for everyone\n",
    "\n",
    "#Windows users \n",
    "\n",
    "#dir -look at the files and directories/folders in this location\n",
    "#cd  - change between folders/directories\n",
    "#notepad -use it for your editor(simple)\n",
    "\n",
    "#py - python in cmd once you download it\n",
    "\n",
    "#Mac users\n",
    "\n",
    "#ls - look at all the files and folders in this location\n",
    "#cd - change between folders/directories\n",
    "#nano - use it for your editor(simple)\n",
    "\n",
    "#python - python in your cmd"
   ]
  }
 ],
 "metadata": {
  "kernelspec": {
   "display_name": "Python 3",
   "language": "python",
   "name": "python3"
  },
  "language_info": {
   "codemirror_mode": {
    "name": "ipython",
    "version": 3
   },
   "file_extension": ".py",
   "mimetype": "text/x-python",
   "name": "python",
   "nbconvert_exporter": "python",
   "pygments_lexer": "ipython3",
   "version": "3.7.6"
  }
 },
 "nbformat": 4,
 "nbformat_minor": 2
}
