{
 "cells": [
  {
   "cell_type": "raw",
   "metadata": {},
   "source": [
    "Exercise 3.1 - Names: Store the names of a few of your friends in a list called \"names\". Print each person's name by accessing each element in the list, one at a time."
   ]
  },
  {
   "cell_type": "code",
   "execution_count": 37,
   "metadata": {},
   "outputs": [
    {
     "name": "stdout",
     "output_type": "stream",
     "text": [
      "Joanne\n",
      "Michael\n",
      "Olivia\n",
      "Squeeky\n"
     ]
    }
   ],
   "source": [
    "names = [\"Joanne\", \"Michael\", \"Olivia\", \"Squeeky\"]\n",
    "print(names[0])\n",
    "print(names[1])\n",
    "print(names[2])\n",
    "print(names[3])"
   ]
  },
  {
   "cell_type": "raw",
   "metadata": {},
   "source": [
    "Exercise 3.2 - Greetings: Using the list from Exercise 3.1, print a message for each person in your list. The text of the message should be the same, but each message should be personalized with the person's name."
   ]
  },
  {
   "cell_type": "code",
   "execution_count": 38,
   "metadata": {},
   "outputs": [
    {
     "name": "stdout",
     "output_type": "stream",
     "text": [
      "Hello Joanne , how are you?\n",
      "Hello Michael , how are you?\n",
      "Hello Olivia , how are you?\n",
      "Hello Squeeky , how are you?\n"
     ]
    }
   ],
   "source": [
    "for friend in names:\n",
    "    print(\"Hello\",friend,\", how are you?\")"
   ]
  },
  {
   "cell_type": "raw",
   "metadata": {},
   "source": [
    "Exercise 3.3 - Your Own List: Think of a category of things you like, such as types of cars (Toyota, Honda, Ford) or foods (Indian, Chinese, Italian), and make a list that stores several examples. Use your list to print a series of statements about these items such as, \"I would like to own a Honda car.\""
   ]
  },
  {
   "cell_type": "code",
   "execution_count": 39,
   "metadata": {},
   "outputs": [
    {
     "name": "stdout",
     "output_type": "stream",
     "text": [
      "I am now learning SIGN language\n",
      "English and spanish are the two most popular languages in America\n",
      "I would like to learn FRENCH before visiting Quebec\n",
      "I learned german in high school\n"
     ]
    }
   ],
   "source": [
    "languages = [\"Sign\", \"Spanish\", \"French\", \"German\"]\n",
    "\n",
    "message = \"I am now learning \" + languages[0].upper() + \" language\"\n",
    "print(message)\n",
    "\n",
    "message = \"English and \" + languages[1].lower() + \" are the two most popular languages in America\"\n",
    "print(message)\n",
    "\n",
    "message = \"I would like to learn \" + languages[-2].upper() + \" before visiting Quebec\"\n",
    "print(message)\n",
    "\n",
    "message = \"I learned \" + languages[3].lower() + \" in high school\"\n",
    "print(message)"
   ]
  },
  {
   "cell_type": "raw",
   "metadata": {},
   "source": [
    "Exercise 3.4 - Guest List: If you could invite several famous people (living or deceased) to dinner, who would you invite? Make a list that includes at least three people, then print a message to each person to invite them to dinner."
   ]
  },
  {
   "cell_type": "code",
   "execution_count": 52,
   "metadata": {},
   "outputs": [
    {
     "name": "stdout",
     "output_type": "stream",
     "text": [
      "Hello, Obama, I invite you to dinner\n",
      "Hello, Roosevelt, I invite you to dinner\n",
      "Hello, Lincoln, I invite you to dinner\n",
      "---\n",
      "Hello, Obama , you're invited to my ice cream social\n",
      "Hello, Roosevelt , you're invited to my ice cream social\n",
      "Hello, Lincoln , you're invited to my ice cream social\n",
      "---\n",
      "Hello, Obama, let's go out for breakfast\n",
      "Hello, Roosevelt, let's go out for breakfast\n",
      "Hello, Lincoln, let's go out for breakfast\n"
     ]
    }
   ],
   "source": [
    "guest_list = [\"Obama\",\"Roosevelt\",\"Lincoln\"]\n",
    "# this way there is no space added after guest name\n",
    "for guest in guest_list:\n",
    "    print(\"Hello, \" + guest + \", I invite you to dinner\")\n",
    "print(\"---\")\n",
    "#this way adds space before comma\n",
    "for guest in guest_list:\n",
    "    print(\"Hello,\", guest, \", you're invited to my ice cream social\")\n",
    "print(\"---\")\n",
    "#this way shows no spaces inserted\n",
    "for guest in guest_list:\n",
    "    print(f\"Hello, {guest}, let's go out for breakfast\")"
   ]
  },
  {
   "cell_type": "raw",
   "metadata": {},
   "source": [
    "Exercise 3.5 - Changing Guest List: You just heard that one of your guests can't make dinner, so you need to send out a new set of invitations. You'll have to think of someone else to invite. Start with the program from Exercise 3.4, and add a print statement to say which guest can't make the dinner. Modify the list, replacing the name of the guest that can't make it with the new invited person. Finally, print a second set of invitation messages, one for each person invited to dinner."
   ]
  },
  {
   "cell_type": "code",
   "execution_count": 53,
   "metadata": {},
   "outputs": [
    {
     "name": "stdout",
     "output_type": "stream",
     "text": [
      "Roosevelt cannot come to my dinner party.  I'll invite Kennedy\n",
      "Obama, please come to my dinner party\n",
      "Kennedy, please come to my dinner party\n",
      "Lincoln, please come to my dinner party\n"
     ]
    }
   ],
   "source": [
    "print(guest_list[1], \"cannot come to my dinner party.  I'll invite Kennedy\")\n",
    "guest_list[1] = \"Kennedy\"\n",
    "for guest in guest_list:\n",
    "    print(f\"{guest}, please come to my dinner party\")"
   ]
  },
  {
   "cell_type": "raw",
   "metadata": {},
   "source": [
    "Exercise 3.6 - More Guests: You found a bigger dinner table, so now more space is available. Think of three more guests to invite to dinner. Using the program from Exercise 3.5, add a print statement letting your guests know that you have a bigger table. Use the \"insert()\" function to add one new guest to the beginning and middle of your list, and the \"append()\" function to add a guest to the end of the list. Print a new set of invitations, one for each person in your list."
   ]
  },
  {
   "cell_type": "code",
   "execution_count": 54,
   "metadata": {},
   "outputs": [
    {
     "name": "stdout",
     "output_type": "stream",
     "text": [
      "Obama, Kennedy, and Lincoln, we have a bigger table for the dinner, I am inviting more people to join us\n",
      "---\n",
      "Snoopy, please join me for dinner\n",
      "Obama, please join me for dinner\n",
      "Linus, please join me for dinner\n",
      "Kennedy, please join me for dinner\n",
      "Lincoln, please join me for dinner\n",
      "Sherman, please join me for dinner\n"
     ]
    }
   ],
   "source": [
    "print(f\"{guest_list[0]}, {guest_list[1]}, and {guest_list[2]}, we have a bigger table for the dinner, I am inviting more people to join us\")\n",
    "\n",
    "print(\"---\")\n",
    "\n",
    "guest_list.insert(0,\"Snoopy\")\n",
    "guest_list.insert(2,\"Linus\")\n",
    "guest_list.append(\"Sherman\")\n",
    "\n",
    "for guest in guest_list:\n",
    "    print(f\"{guest}, please join me for dinner\")"
   ]
  },
  {
   "cell_type": "raw",
   "metadata": {},
   "source": [
    "Exercise 3.7 - Shrinking Guest List: You found out that the new table can't be delivered in time, and you only have space for two guests. Using the program from Exercise 3.6, add a new line that prints a statement that you can only have two guests at dinner. Use the pop() function to remove guests one at a time until only two guests remain. Each time you pop a name from the list, print a message to the person to apologize for not inviting them to dinner. Print a message to the two people still left on your list, letting them know that they are still invited. Use the \"del\" function to remove the last two names from your list, so you have an empty list. Print your list to show that it is empty."
   ]
  },
  {
   "cell_type": "code",
   "execution_count": 55,
   "metadata": {},
   "outputs": [
    {
     "name": "stdout",
     "output_type": "stream",
     "text": [
      "['Snoopy', 'Obama', 'Linus', 'Kennedy', 'Lincoln', 'Sherman']  I'm sorry, my new table won't arrive in time.  I can only invite two of you\n",
      "---\n",
      "Sherman, I'm sorry for not inviting you to dinner\n",
      "---\n",
      "Lincoln, I'm sorry for not inviting you to dinner\n",
      "---\n",
      "Kennedy, I'm sorry for not inviting you to dinner\n",
      "---\n",
      "Linus, I'm sorry for not inviting you to dinner\n",
      "---\n",
      "Snoopy, you are still invited\n",
      "Obama, you are still invited\n",
      "---\n",
      "My guest list is now []\n"
     ]
    }
   ],
   "source": [
    "print(guest_list,\" I'm sorry, my new table won't arrive in time.  I can only invite two of you\")\n",
    "\n",
    "print(\"---\")\n",
    "\n",
    "popped_guest = guest_list.pop()\n",
    "print(f\"{popped_guest}, I'm sorry for not inviting you to dinner\")\n",
    "print(\"---\")\n",
    "\n",
    "popped_guest = guest_list.pop()\n",
    "print(f\"{popped_guest}, I'm sorry for not inviting you to dinner\")\n",
    "print(\"---\")\n",
    "\n",
    "popped_guest = guest_list.pop()\n",
    "print(f\"{popped_guest}, I'm sorry for not inviting you to dinner\")\n",
    "print(\"---\")\n",
    "\n",
    "popped_guest = guest_list.pop()\n",
    "print(f\"{popped_guest}, I'm sorry for not inviting you to dinner\")\n",
    "print(\"---\")\n",
    "\n",
    "for guest in guest_list:\n",
    "    print(f\"{guest}, you are still invited\")\n",
    "print (\"---\")\n",
    "\n",
    "del guest_list[0]\n",
    "del guest_list[0]\n",
    "print(\"My guest list is now\", guest_list)"
   ]
  },
  {
   "cell_type": "raw",
   "metadata": {},
   "source": [
    "Exercise 3.8 - Seeing the World: Think of at least five places in the world that you would like to visit. Store the locations in a list, making sure that they are NOT in alphabetical order. Print your list in its original order (don't worry about printing it neatly; a raw Python list output is fine). Use the \"sorted()\" function to print your list in alphabetical order without modifying the original list. Show that your original list is still unsorted. Use the \"sorted()\" function to print the list in reverse alphabetical order without changing the order of the original list. Again, show that the original list is still unsorted. Use the \"reverse()\" function to change the order of the list, then print it to show the order has changed. Use the \"reverse()\" function again to change the list back to its original order (show the output). Use the \"sort()\" function to change your list so it's stored in alphabetical order, and print the list to show the change. Use \"sort()\" again to store the items in reverse alphabetical order, and print the list to show the change.  ==> THIS ONE WAS DONE AS WEEKEND ASSIGNMENT"
   ]
  },
  {
   "cell_type": "raw",
   "metadata": {},
   "source": [
    "Exercise 3.9 - Dinner Guests: Using one of the lists from Exercises 3.4 through 3.7, use the \"len()\" function to print a message stating how many guests you are inviting to dinner."
   ]
  },
  {
   "cell_type": "code",
   "execution_count": 56,
   "metadata": {},
   "outputs": [
    {
     "data": {
      "text/plain": [
       "0"
      ]
     },
     "execution_count": 56,
     "metadata": {},
     "output_type": "execute_result"
    }
   ],
   "source": [
    "len(guest_list)"
   ]
  },
  {
   "cell_type": "raw",
   "metadata": {},
   "source": [
    "Exercise 3.11 - Intentional Error: By now, you've probably run into at least one error in your code. In your own words, write a comment explaining what the error was in your program and how you fixed it. This is to help you get used to debugging your program whenever you test the output."
   ]
  },
  {
   "cell_type": "code",
   "execution_count": 58,
   "metadata": {},
   "outputs": [
    {
     "name": "stdout",
     "output_type": "stream",
     "text": [
      "I am now learning SIGN language\n"
     ]
    }
   ],
   "source": [
    "# Original line of code\n",
    "\n",
    "#message = \"I am now learning \" + languages[0].upper + \" language\"\n",
    "#print(message)\n",
    "\n",
    "# caused error\n",
    "#---------------------------------------------------------------------------\n",
    "#TypeError                                 Traceback (most recent call last)\n",
    "#<ipython-input-57-64d29c09a617> in <module>\n",
    "#      1 # Original line of code\n",
    "#----> 2 message = \"I am now learning \" + languages[0].upper + \" language\"\n",
    "#      3 print(message)\n",
    "#      4 #\n",
    "#      5 message = \"I am now learning \" + languages[0].upper() + \" language\"\n",
    "#\n",
    "#TypeError: can only concatenate str (not \"builtin_function_or_method\") to str\n",
    "#\n",
    "# due to () missing after languages[0].upper\n",
    "message = \"I am now learning \" + languages[0].upper() + \" language\"\n",
    "print(message)"
   ]
  }
 ],
 "metadata": {
  "kernelspec": {
   "display_name": "Python 3",
   "language": "python",
   "name": "python3"
  },
  "language_info": {
   "codemirror_mode": {
    "name": "ipython",
    "version": 3
   },
   "file_extension": ".py",
   "mimetype": "text/x-python",
   "name": "python",
   "nbconvert_exporter": "python",
   "pygments_lexer": "ipython3",
   "version": "3.7.6"
  }
 },
 "nbformat": 4,
 "nbformat_minor": 4
}
