{
 "cells": [
  {
   "cell_type": "markdown",
   "metadata": {},
   "source": [
    "Create a dictionary named pairs with key value pairs of hello and fire, 3 and seven, strong and 45"
   ]
  },
  {
   "cell_type": "code",
   "execution_count": 1,
   "metadata": {},
   "outputs": [],
   "source": [
    "pairs = {'hello': 'fire', '3': 7, 'strong': 45}"
   ]
  },
  {
   "cell_type": "markdown",
   "metadata": {},
   "source": [
    "Print the dictionary pairs out"
   ]
  },
  {
   "cell_type": "code",
   "execution_count": 2,
   "metadata": {},
   "outputs": [
    {
     "name": "stdout",
     "output_type": "stream",
     "text": [
      "{'hello': 'fire', '3': 7, 'strong': 45}\n"
     ]
    }
   ],
   "source": [
    "print(pairs)"
   ]
  },
  {
   "cell_type": "markdown",
   "metadata": {},
   "source": [
    "Add a new pair into the dictionary called pairs. Add welcome and 56"
   ]
  },
  {
   "cell_type": "code",
   "execution_count": 3,
   "metadata": {},
   "outputs": [
    {
     "name": "stdout",
     "output_type": "stream",
     "text": [
      "{'hello': 'fire', '3': 7, 'strong': 45, 'welcome': 56}\n"
     ]
    }
   ],
   "source": [
    "pairs['welcome'] = 56\n",
    "print(pairs)"
   ]
  },
  {
   "cell_type": "markdown",
   "metadata": {},
   "source": [
    "Delete one item from the Dictionary and print it out"
   ]
  },
  {
   "cell_type": "code",
   "execution_count": 4,
   "metadata": {},
   "outputs": [
    {
     "name": "stdout",
     "output_type": "stream",
     "text": [
      "{'hello': 'fire', '3': 7, 'strong': 45}\n",
      "{'hello': 'fire', '3': 7, 'strong': 45, 'welcome': 56}\n",
      "{'hello': 'fire', '3': 7, 'strong': 45}\n"
     ]
    }
   ],
   "source": [
    "#try del first\n",
    "del pairs['welcome']\n",
    "print(pairs)\n",
    "\n",
    "#add \"welcome\" back into pairs\n",
    "pairs['welcome'] = 56\n",
    "print(pairs)\n",
    "\n",
    "#now use pop\n",
    "pairs.pop('welcome')\n",
    "print(pairs)"
   ]
  },
  {
   "cell_type": "markdown",
   "metadata": {},
   "source": [
    "Pull out one item from the dicitonary"
   ]
  },
  {
   "cell_type": "code",
   "execution_count": 5,
   "metadata": {},
   "outputs": [
    {
     "name": "stdout",
     "output_type": "stream",
     "text": [
      "fire\n",
      "7\n"
     ]
    }
   ],
   "source": [
    "dict_item = pairs[\"hello\"]\n",
    "print (dict_item)\n",
    "\n",
    "dict_item = pairs.get('3')\n",
    "print (dict_item)"
   ]
  },
  {
   "cell_type": "markdown",
   "metadata": {},
   "source": [
    "Try to find out if the key called hello exist. Print out the key is found if it is there otherwise print out the key is not there."
   ]
  },
  {
   "cell_type": "code",
   "execution_count": 6,
   "metadata": {},
   "outputs": [
    {
     "name": "stdout",
     "output_type": "stream",
     "text": [
      "Key 'hello' is in pairs dictionary; it's value is  fire\n"
     ]
    }
   ],
   "source": [
    "if \"hello\" in pairs:\n",
    "    print(\"Key 'hello' is in pairs dictionary; it's value is \", pairs[\"hello\"])\n",
    "else:\n",
    "    print(\"Key 'hello' is not in pairs dictionary\")"
   ]
  },
  {
   "cell_type": "markdown",
   "metadata": {},
   "source": [
    "Please loop through the dictionary and print out each value. "
   ]
  },
  {
   "cell_type": "code",
   "execution_count": 7,
   "metadata": {},
   "outputs": [
    {
     "name": "stdout",
     "output_type": "stream",
     "text": [
      "Print the values\n",
      "fire\n",
      "7\n",
      "45\n"
     ]
    }
   ],
   "source": [
    "print(\"Print the values\")\n",
    "for value in pairs.values():\n",
    "    print(value)"
   ]
  },
  {
   "cell_type": "markdown",
   "metadata": {},
   "source": [
    "Please loop through the dictionary and print out each key."
   ]
  },
  {
   "cell_type": "code",
   "execution_count": 8,
   "metadata": {},
   "outputs": [
    {
     "name": "stdout",
     "output_type": "stream",
     "text": [
      "Print the keys\n",
      "hello\n",
      "3\n",
      "strong\n"
     ]
    }
   ],
   "source": [
    "print(\"Print the keys\")\n",
    "for key in pairs.keys(): #looking for just keys of dictionaries\n",
    "    print(key)"
   ]
  },
  {
   "cell_type": "markdown",
   "metadata": {},
   "source": [
    "Please loop through the dictionary and print out each key and value pair. "
   ]
  },
  {
   "cell_type": "code",
   "execution_count": 9,
   "metadata": {},
   "outputs": [
    {
     "name": "stdout",
     "output_type": "stream",
     "text": [
      "Key: hello \t\tValue: fire\n",
      "Key: 3 \t\tValue: 7\n",
      "Key: strong \t\tValue: 45\n"
     ]
    }
   ],
   "source": [
    "for key,value in pairs.items():\n",
    "    print(\"Key:\",key, \"\\t\\tValue:\",value)"
   ]
  },
  {
   "cell_type": "markdown",
   "metadata": {},
   "source": [
    "Make a copy of this dictionary and store it as pairs2"
   ]
  },
  {
   "cell_type": "markdown",
   "metadata": {},
   "source": [
    "Make a copy of this dictionary and store it as pairs2"
   ]
  },
  {
   "cell_type": "code",
   "execution_count": 10,
   "metadata": {},
   "outputs": [
    {
     "name": "stdout",
     "output_type": "stream",
     "text": [
      "{'hello': 'fire', '3': 7, 'strong': 45}\n"
     ]
    }
   ],
   "source": [
    "pairs2 = pairs.copy()\n",
    "print(pairs2)"
   ]
  },
  {
   "cell_type": "markdown",
   "metadata": {},
   "source": [
    "Please make a nested dictionary called Parent with 2 children"
   ]
  },
  {
   "cell_type": "code",
   "execution_count": 11,
   "metadata": {},
   "outputs": [
    {
     "data": {
      "text/plain": [
       "{'child1': {'name': 'John', 'age': '10'},\n",
       " 'child2': {'name': 'Jane', 'age': '15'}}"
      ]
     },
     "execution_count": 11,
     "metadata": {},
     "output_type": "execute_result"
    }
   ],
   "source": [
    "parent = {\n",
    "    \"child1\"   : {\n",
    "        \"name\" : \"John\",\n",
    "        \"age\"  : \"10\"\n",
    "    },\n",
    "    \"child2\"   : {\n",
    "        \"name\" : \"Jane\",\n",
    "        \"age\"  : \"15\"\n",
    "    }\n",
    "}\n",
    "\n",
    "parent"
   ]
  }
 ],
 "metadata": {
  "kernelspec": {
   "display_name": "Python 3",
   "language": "python",
   "name": "python3"
  },
  "language_info": {
   "codemirror_mode": {
    "name": "ipython",
    "version": 3
   },
   "file_extension": ".py",
   "mimetype": "text/x-python",
   "name": "python",
   "nbconvert_exporter": "python",
   "pygments_lexer": "ipython3",
   "version": "3.7.6"
  }
 },
 "nbformat": 4,
 "nbformat_minor": 4
}
